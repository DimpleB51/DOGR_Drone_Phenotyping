{
 "cells": [
  {
   "cell_type": "code",
   "execution_count": 1,
   "id": "15970489-b451-43bc-b8be-7642bc381d8b",
   "metadata": {},
   "outputs": [
    {
     "name": "stdout",
     "output_type": "stream",
     "text": [
      "Found 7 TIFF images.\n",
      "./28_aug_all_tif/R1_28Aug23_index_nir.tif\n",
      "./28_aug_all_tif/R1_28Aug23_index_panchro.tif\n",
      "./28_aug_all_tif/R1_28Aug23_index_ndvi.tif\n",
      "./28_aug_all_tif/R1_28Aug23_index_red.tif\n",
      "./28_aug_all_tif/R1_28Aug23_index_red_edge.tif\n"
     ]
    }
   ],
   "source": [
    "# Loop through images in a folder\n",
    "import os\n",
    "\n",
    "# Replace with your main folder path\n",
    "main_folder = './28_aug_all_tif'\n",
    "\n",
    "# List to store image file paths\n",
    "tiff_files = []\n",
    "\n",
    "# Walk through all directories and subdirectories\n",
    "for root, dirs, files in os.walk(main_folder):\n",
    "    for file in files:\n",
    "        if file.lower().endswith(('.tif', '.tiff')):\n",
    "            tiff_files.append(os.path.join(root, file))\n",
    "\n",
    "print(f\"Found {len(tiff_files)} TIFF images.\")\n",
    "\n",
    "# DISPLAY FILE NAMES\n",
    "#for r in range (len(tiff_files)):\n",
    "for r in range (5):\n",
    "    print (tiff_files[r])"
   ]
  },
  {
   "cell_type": "code",
   "execution_count": 2,
   "id": "2dc94416-e261-42e9-bf94-124af0be281c",
   "metadata": {},
   "outputs": [
    {
     "name": "stdout",
     "output_type": "stream",
     "text": [
      "R1_28Aug23_index_ndvi.tif\n",
      "OrderedDict({'R1_28Aug23_index_ndvi': OrderedDict({'region': 'r1', 'date': '28Aug23', 'index': 'index_ndvi', 'pixel_values': []})})\n"
     ]
    }
   ],
   "source": [
    "import os\n",
    "ndvi_file_path = \"\"\n",
    "\n",
    "from collections import OrderedDict\n",
    "\n",
    "# Main dictionary to hold metadata + empty stats section\n",
    "Region = OrderedDict()\n",
    "\n",
    "for r in range (len(tiff_files)):\n",
    "    # file path\n",
    "    file_path = tiff_files[r]\n",
    "    # Get the filename without path\n",
    "    filename = os.path.basename(file_path)\n",
    "    \n",
    "    # Remove extension\n",
    "    name = os.path.splitext(filename)[0]\n",
    "\n",
    "    # Split by underscores\n",
    "    parts = name.split('_')\n",
    "    region = parts[0].lower()      # 'r1'\n",
    "    date = parts[1]                # '7Sept23'\n",
    "    index = '_'.join(parts[2:])    # 'index_norm2'\n",
    "    if index == \"index_ndvi\":\n",
    "        ndvi_file_path = filename\n",
    "\n",
    "        Region[name] = OrderedDict([('region', region),\n",
    "        ('date', date),\n",
    "        ('index', index),\n",
    "        ('pixel_values', [])])\n",
    "\n",
    "print (ndvi_file_path)\n",
    "print (Region)"
   ]
  },
  {
   "cell_type": "code",
   "execution_count": 3,
   "id": "669e465a-ab94-4a00-a9f4-a8451982d703",
   "metadata": {},
   "outputs": [
    {
     "name": "stdout",
     "output_type": "stream",
     "text": [
      "Requirement already satisfied: rasterio in /home/dimple/anaconda3/lib/python3.12/site-packages (1.4.3)\n",
      "Requirement already satisfied: affine in /home/dimple/anaconda3/lib/python3.12/site-packages (from rasterio) (2.4.0)\n",
      "Requirement already satisfied: attrs in /home/dimple/anaconda3/lib/python3.12/site-packages (from rasterio) (23.1.0)\n",
      "Requirement already satisfied: certifi in /home/dimple/anaconda3/lib/python3.12/site-packages (from rasterio) (2024.8.30)\n",
      "Requirement already satisfied: click>=4.0 in /home/dimple/anaconda3/lib/python3.12/site-packages (from rasterio) (8.1.7)\n",
      "Requirement already satisfied: cligj>=0.5 in /home/dimple/anaconda3/lib/python3.12/site-packages (from rasterio) (0.7.2)\n",
      "Requirement already satisfied: numpy>=1.24 in /home/dimple/anaconda3/lib/python3.12/site-packages (from rasterio) (1.26.4)\n",
      "Requirement already satisfied: click-plugins in /home/dimple/anaconda3/lib/python3.12/site-packages (from rasterio) (1.1.1)\n",
      "Requirement already satisfied: pyparsing in /home/dimple/anaconda3/lib/python3.12/site-packages (from rasterio) (3.1.2)\n"
     ]
    }
   ],
   "source": [
    "!pip install rasterio"
   ]
  },
  {
   "cell_type": "code",
   "execution_count": 4,
   "id": "9d265edd-5435-485d-bcbe-27667eca48c3",
   "metadata": {},
   "outputs": [],
   "source": [
    "# plot histogram function\n",
    "import rasterio\n",
    "import numpy as np\n",
    "from rasterio.windows import from_bounds\n",
    "from scipy import stats  # Only needed for mode\n",
    "import matplotlib.pyplot as plt\n",
    "\n",
    "def statistical_measure (dict, sub_key_val, sub_value_val):\n",
    "    hist_keys = []\n",
    "    for key, value in dict.items():\n",
    "        #print(f\"File: {key}\")\n",
    "        for sub_key, sub_value in value.items():\n",
    "            if sub_key == sub_key_val and sub_value == sub_value_val:\n",
    "                for r in range (len(tiff_files)):    \n",
    "                    if key in tiff_files[r]:\n",
    "                        #print (tiff_files[r])\n",
    "                        image_path = tiff_files[r]\n",
    "                        with rasterio.open(image_path) as src:\n",
    "                            # Extract image bounds and transform\n",
    "                            bounds = src.bounds\n",
    "                            transform = src.transform\n",
    "                            nodata = src.nodata\n",
    "                        \n",
    "                            # Get window from bounding box\n",
    "                            window = from_bounds(bounds.left, bounds.bottom, bounds.right, bounds.top, transform=transform)\n",
    "                        \n",
    "                            # Read the indice_values values in the bounding box\n",
    "                            indice_values = src.read(1, window=window)\n",
    "                        \n",
    "                            # Mask nodata values\n",
    "                            if nodata is not None:\n",
    "                                indice_values = np.ma.masked_equal(indice_values, nodata)\n",
    "                        # Flatten the array for stats\n",
    "                        pixel_values = indice_values.compressed()     \n",
    "                        Region[key]['pixel_values'] = pixel_values\n",
    "                        #print (pixel_values)\n",
    "                        hist_keys.append(key)\n",
    "    return hist_keys"
   ]
  },
  {
   "cell_type": "code",
   "execution_count": 5,
   "id": "5cc0fd8f-f2f9-4ee0-b6e3-f74a2c8c9e0e",
   "metadata": {},
   "outputs": [
    {
     "name": "stdout",
     "output_type": "stream",
     "text": [
      "['R1_28Aug23_index_ndvi']\n"
     ]
    }
   ],
   "source": [
    "# Get pixel values of indices and plot histograms (NDVI) w.r.t indices\n",
    "histogram_keys_ndvi = statistical_measure(Region, 'index', 'index_ndvi')\n",
    "print (histogram_keys_ndvi)"
   ]
  },
  {
   "cell_type": "code",
   "execution_count": 6,
   "id": "aa90ec03-12b4-4c50-876d-fd9f327bdbd8",
   "metadata": {},
   "outputs": [
    {
     "data": {
      "image/png": "[encoded data removed]",
      "text/plain": [
       "<Figure size 640x480 with 1 Axes>"
      ]
     },
     "metadata": {},
     "output_type": "display_data"
    }
   ],
   "source": [
    "plt.hist(Region[histogram_keys_ndvi[0]]['pixel_values'], bins=50, color='green', edgecolor='black')\n",
    "plt.title(f\"NDVI Distribution {Region[histogram_keys_ndvi[0]]['date']}\")\n",
    "plt.xlabel(\"NDVI\")\n",
    "plt.ylabel(\"Pixel Count\")\n",
    "plt.grid(True)\n",
    "\n",
    "plt.tight_layout()\n",
    "plt.show()"
   ]
  },
  {
   "cell_type": "code",
   "execution_count": null,
   "id": "eac23556-b52f-48b8-a970-23da8de61a2b",
   "metadata": {},
   "outputs": [],
   "source": []
  },
  {
   "cell_type": "code",
   "execution_count": null,
   "id": "d139a6ed-8954-4a33-ae83-2e68eee42aee",
   "metadata": {},
   "outputs": [],
   "source": []
  }
 ],
 "metadata": {
  "kernelspec": {
   "display_name": "Python 3 (ipykernel)",
   "language": "python",
   "name": "python3"
  },
  "language_info": {
   "codemirror_mode": {
    "name": "ipython",
    "version": 3
   },
   "file_extension": ".py",
   "mimetype": "text/x-python",
   "name": "python",
   "nbconvert_exporter": "python",
   "pygments_lexer": "ipython3",
   "version": "3.12.7"
  }
 },
 "nbformat": 4,
 "nbformat_minor": 5
}
